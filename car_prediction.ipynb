{
 "cells": [
  {
   "cell_type": "code",
   "execution_count": null,
   "id": "bc253f83",
   "metadata": {
    "id": "bc253f83"
   },
   "outputs": [],
   "source": [
    "# importing all the necessary libraries"
   ]
  },
  {
   "cell_type": "code",
   "execution_count": 1,
   "id": "47b096f2",
   "metadata": {
    "id": "47b096f2"
   },
   "outputs": [],
   "source": [
    "import pandas as pd;\n",
    "import numpy as np;\n",
    "import matplotlib.pyplot as plt;\n",
    "import seaborn as sns;\n",
    "import scipy.stats as scp;\n",
    "from sklearn.feature_selection import RFE;\n",
    "from sklearn.preprocessing import StandardScaler;\n",
    "from sklearn.preprocessing import OneHotEncoder;\n",
    "from sklearn.compose import ColumnTransformer;\n",
    "from sklearn.preprocessing import LabelEncoder;\n",
    "from sklearn.linear_model import LinearRegression;\n",
    "from sklearn.model_selection import train_test_split;\n",
    "from sklearn.ensemble import ExtraTreesRegressor;\n",
    "from sklearn.metrics import r2_score;\n",
    "import statsmodels.api as apl;\n",
    "from sklearn.preprocessing import StandardScaler;\n",
    "from sklearn.model_selection import cross_val_score;\n",
    "from sklearn.model_selection import RepeatedKFold\n",
    "from sklearn.linear_model import Ridge;\n",
    "from numpy import absolute;\n",
    "from sklearn.model_selection import GridSearchCV;\n",
    "from numpy import arange;\n",
    "from sklearn.linear_model import Lasso;\n",
    "from sklearn.linear_model import ElasticNet;"
   ]
  },
  {
   "cell_type": "code",
   "execution_count": 2,
   "id": "8826d9f4",
   "metadata": {
    "id": "8826d9f4"
   },
   "outputs": [],
   "source": [
    "# getting the data"
   ]
  },
  {
   "cell_type": "code",
   "execution_count": 3,
   "id": "90b57366",
   "metadata": {
    "colab": {
     "base_uri": "https://localhost:8080/"
    },
    "id": "90b57366",
    "outputId": "60b52fba-09f4-4106-cc14-ce000ac4eb5f"
   },
   "outputs": [
    {
     "name": "stdout",
     "output_type": "stream",
     "text": [
      "<class 'pandas.core.frame.DataFrame'>\n",
      "RangeIndex: 301 entries, 0 to 300\n",
      "Data columns (total 9 columns):\n",
      " #   Column         Non-Null Count  Dtype  \n",
      "---  ------         --------------  -----  \n",
      " 0   Car_Name       301 non-null    object \n",
      " 1   Year           301 non-null    int64  \n",
      " 2   Selling_Price  301 non-null    float64\n",
      " 3   Present_Price  301 non-null    float64\n",
      " 4   Kms_Driven     301 non-null    int64  \n",
      " 5   Fuel_Type      301 non-null    object \n",
      " 6   Seller_Type    301 non-null    object \n",
      " 7   Transmission   301 non-null    object \n",
      " 8   Owner          301 non-null    int64  \n",
      "dtypes: float64(2), int64(3), object(4)\n",
      "memory usage: 21.3+ KB\n",
      "None\n",
      "(301, 9)\n",
      "              Year  Selling_Price  Present_Price     Kms_Driven       Owner\n",
      "count   301.000000     301.000000     301.000000     301.000000  301.000000\n",
      "mean   2013.627907       4.661296       7.628472   36947.205980    0.043189\n",
      "std       2.891554       5.082812       8.644115   38886.883882    0.247915\n",
      "min    2003.000000       0.100000       0.320000     500.000000    0.000000\n",
      "25%    2012.000000       0.900000       1.200000   15000.000000    0.000000\n",
      "50%    2014.000000       3.600000       6.400000   32000.000000    0.000000\n",
      "75%    2016.000000       6.000000       9.900000   48767.000000    0.000000\n",
      "max    2018.000000      35.000000      92.600000  500000.000000    3.000000\n"
     ]
    }
   ],
   "source": [
    "df = pd.read_csv(\"car data.csv\");\n",
    "print(df.info())\n",
    "print(df.shape)\n",
    "print(df.describe())"
   ]
  },
  {
   "cell_type": "code",
   "execution_count": 4,
   "id": "ccb5092f",
   "metadata": {
    "id": "ccb5092f"
   },
   "outputs": [],
   "source": [
    "# DATA PREPROCESSING"
   ]
  },
  {
   "cell_type": "code",
   "execution_count": 5,
   "id": "fca67586",
   "metadata": {
    "colab": {
     "base_uri": "https://localhost:8080/",
     "height": 1000
    },
    "id": "fca67586",
    "outputId": "64644452-aaed-4081-8d84-18baa1c37f5b"
   },
   "outputs": [
    {
     "name": "stdout",
     "output_type": "stream",
     "text": [
      "feature having na:-  []\n",
      "numerical features are  ['Year', 'Selling_Price', 'Present_Price', 'Kms_Driven', 'Owner'] count of numerical featuers are  5\n",
      "categorical_feature are  ['Fuel_Type', 'Seller_Type', 'Transmission', 'Car_Name'] count of categorical_feature are  4\n",
      "descrete features are  ['Year', 'Owner'] count of descrete_features are  2\n"
     ]
    },
    {
     "data": {
      "image/png": "[encoded data removed]",
      "text/plain": [
       "<Figure size 432x288 with 1 Axes>"
      ]
     },
     "metadata": {
      "needs_background": "light"
     },
     "output_type": "display_data"
    },
    {
     "data": {
      "image/png": "[encoded data removed]",
      "text/plain": [
       "<Figure size 432x288 with 1 Axes>"
      ]
     },
     "metadata": {
      "needs_background": "light"
     },
     "output_type": "display_data"
    },
    {
     "data": {
      "image/png": "[encoded data removed]",
      "text/plain": [
       "<Figure size 432x288 with 1 Axes>"
      ]
     },
     "metadata": {
      "needs_background": "light"
     },
     "output_type": "display_data"
    },
    {
     "data": {
      "image/png": "[encoded data removed]",
      "text/plain": [
       "<Figure size 432x288 with 1 Axes>"
      ]
     },
     "metadata": {
      "needs_background": "light"
     },
     "output_type": "display_data"
    }
   ],
   "source": [
    "feature_having_na = [feature for feature in df.columns if df[feature].isnull().sum()>1]\n",
    "print('feature having na:- ', feature_having_na);\n",
    "numerical_feature = [feature for feature in df.columns if df[feature].dtypes !='O' ]\n",
    "print('numerical features are ', numerical_feature, 'count of numerical featuers are ', len(numerical_feature))\n",
    "categorical_feature = list(set(df.columns)-set(numerical_feature))\n",
    "print('categorical_feature are ', categorical_feature, 'count of categorical_feature are ', len(categorical_feature))\n",
    "\n",
    "descrete_features = [feature for feature in numerical_feature if len(df[feature].unique())<25]\n",
    "print('descrete features are ', descrete_features, 'count of descrete_features are ', len(descrete_features))\n",
    "for feature in numerical_feature:\n",
    " data = df.copy()\n",
    " if 0 in data[feature].unique():\n",
    "     pass\n",
    " else:\n",
    "     data[feature] = np.log(data[feature])\n",
    "     data.boxplot(column = feature)\n",
    "     plt.ylabel(feature)\n",
    "     plt.title(feature)\n",
    "     plt.show()"
   ]
  },
  {
   "cell_type": "code",
   "execution_count": 6,
   "id": "0960b04e",
   "metadata": {
    "id": "0960b04e"
   },
   "outputs": [],
   "source": [
    "# EXPLORATARY DATA ANALYSIS"
   ]
  },
  {
   "cell_type": "code",
   "execution_count": 7,
   "id": "846955f9",
   "metadata": {
    "colab": {
     "base_uri": "https://localhost:8080/"
    },
    "id": "846955f9",
    "outputId": "1d6fbe4d-f77c-4054-fb6d-012a9fad4dfe"
   },
   "outputs": [
    {
     "name": "stdout",
     "output_type": "stream",
     "text": [
      "    Car_Name  Year  Selling_Price  Present_Price  Kms_Driven Fuel_Type  \\\n",
      "17    ertiga  2016           7.75          10.79       43000    Diesel   \n",
      "93  fortuner  2015          23.00          30.61       40000    Diesel   \n",
      "\n",
      "   Seller_Type Transmission  Owner  \n",
      "17      Dealer       Manual      0  \n",
      "93      Dealer    Automatic      0  \n",
      "    Car_Name  Year  Selling_Price  Present_Price  Kms_Driven Fuel_Type  \\\n",
      "0       ritz  2014           3.35           5.59       27000    Petrol   \n",
      "1        sx4  2013           4.75           9.54       43000    Diesel   \n",
      "2       ciaz  2017           7.25           9.85        6900    Petrol   \n",
      "3    wagon r  2011           2.85           4.15        5200    Petrol   \n",
      "4      swift  2014           4.60           6.87       42450    Diesel   \n",
      "..       ...   ...            ...            ...         ...       ...   \n",
      "296     city  2016           9.50          11.60       33988    Diesel   \n",
      "297     brio  2015           4.00           5.90       60000    Petrol   \n",
      "298     city  2009           3.35          11.00       87934    Petrol   \n",
      "299     city  2017          11.50          12.50        9000    Diesel   \n",
      "300     brio  2016           5.30           5.90        5464    Petrol   \n",
      "\n",
      "    Seller_Type Transmission  Owner  \n",
      "0        Dealer       Manual      0  \n",
      "1        Dealer       Manual      0  \n",
      "2        Dealer       Manual      0  \n",
      "3        Dealer       Manual      0  \n",
      "4        Dealer       Manual      0  \n",
      "..          ...          ...    ...  \n",
      "296      Dealer       Manual      0  \n",
      "297      Dealer       Manual      0  \n",
      "298      Dealer       Manual      0  \n",
      "299      Dealer       Manual      0  \n",
      "300      Dealer       Manual      0  \n",
      "\n",
      "[299 rows x 9 columns]\n",
      "Car_Name         0\n",
      "Year             0\n",
      "Selling_Price    0\n",
      "Present_Price    0\n",
      "Kms_Driven       0\n",
      "Fuel_Type        0\n",
      "Seller_Type      0\n",
      "Transmission     0\n",
      "Owner            0\n",
      "dtype: int64\n",
      "     Year  Selling_Price  Present_Price  Kms_Driven Fuel_Type Seller_Type  \\\n",
      "0    2014           3.35           5.59       27000    Petrol      Dealer   \n",
      "1    2013           4.75           9.54       43000    Diesel      Dealer   \n",
      "2    2017           7.25           9.85        6900    Petrol      Dealer   \n",
      "3    2011           2.85           4.15        5200    Petrol      Dealer   \n",
      "4    2014           4.60           6.87       42450    Diesel      Dealer   \n",
      "..    ...            ...            ...         ...       ...         ...   \n",
      "296  2016           9.50          11.60       33988    Diesel      Dealer   \n",
      "297  2015           4.00           5.90       60000    Petrol      Dealer   \n",
      "298  2009           3.35          11.00       87934    Petrol      Dealer   \n",
      "299  2017          11.50          12.50        9000    Diesel      Dealer   \n",
      "300  2016           5.30           5.90        5464    Petrol      Dealer   \n",
      "\n",
      "    Transmission  Owner  \n",
      "0         Manual      0  \n",
      "1         Manual      0  \n",
      "2         Manual      0  \n",
      "3         Manual      0  \n",
      "4         Manual      0  \n",
      "..           ...    ...  \n",
      "296       Manual      0  \n",
      "297       Manual      0  \n",
      "298       Manual      0  \n",
      "299       Manual      0  \n",
      "300       Manual      0  \n",
      "\n",
      "[299 rows x 8 columns]\n"
     ]
    }
   ],
   "source": [
    "print(df[df.duplicated()])\n",
    "df = df.drop_duplicates();\n",
    "print(df)\n",
    "print(df.isnull().sum())\n",
    "df=df.drop([\"Car_Name\"],axis=1);\n",
    "print(df);\n"
   ]
  },
  {
   "cell_type": "code",
   "execution_count": 8,
   "id": "eed64b8c",
   "metadata": {
    "colab": {
     "base_uri": "https://localhost:8080/",
     "height": 452
    },
    "id": "eed64b8c",
    "outputId": "474ee075-51aa-4151-f920-88284f416683"
   },
   "outputs": [
    {
     "data": {
      "image/png": "[encoded data removed]",
      "text/plain": [
       "<Figure size 432x288 with 1 Axes>"
      ]
     },
     "metadata": {
      "needs_background": "light"
     },
     "output_type": "display_data"
    }
   ],
   "source": [
    "# Removing Outliers\n",
    "Q1= np.percentile(df[\"Kms_Driven\"],25)\n",
    "Q3= np.percentile(df[\"Kms_Driven\"],75)\n",
    "IQR = Q3-Q1\n",
    "lwr_bound=Q1-(1.5*IQR)\n",
    "upr_bound=Q3+(1.5*IQR)\n",
    "outliers=[]\n",
    "for i in df[\"Kms_Driven\"]:\n",
    "    if (i<lwr_bound) or (i>upr_bound):\n",
    "        outliers.append(i)\n",
    "df.drop(df[df[\"Kms_Driven\"]>upr_bound].index,inplace=True)\n",
    "df.drop(df[df[\"Kms_Driven\"]<lwr_bound].index,inplace=True)\n",
    "plt.boxplot(df[\"Kms_Driven\"])\n",
    "plt.title(\"kms_driven\")\n",
    "plt.show()"
   ]
  },
  {
   "cell_type": "code",
   "execution_count": 9,
   "id": "d89c7bbd",
   "metadata": {
    "colab": {
     "base_uri": "https://localhost:8080/"
    },
    "id": "d89c7bbd",
    "outputId": "f86fda7d-0181-49a4-8023-1079cfdc8fd9"
   },
   "outputs": [
    {
     "name": "stdout",
     "output_type": "stream",
     "text": [
      "0      Dealer\n",
      "1      Dealer\n",
      "2      Dealer\n",
      "3      Dealer\n",
      "4      Dealer\n",
      "        ...  \n",
      "296    Dealer\n",
      "297    Dealer\n",
      "298    Dealer\n",
      "299    Dealer\n",
      "300    Dealer\n",
      "Name: Seller_Type, Length: 291, dtype: object\n",
      "Index(['Year', 'Selling_Price', 'Present_Price', 'Kms_Driven', 'Owner',\n",
      "       'Fuel_Type_Diesel', 'Fuel_Type_Petrol', 'Seller_Type_Individual',\n",
      "       'Transmission_Manual'],\n",
      "      dtype='object')\n"
     ]
    }
   ],
   "source": [
    "print(df[\"Seller_Type\"])\n",
    "df=pd.get_dummies(df,columns=['Fuel_Type','Seller_Type','Transmission'],drop_first=True);\n",
    "print(df.columns)"
   ]
  },
  {
   "cell_type": "code",
   "execution_count": 10,
   "id": "2a0b0686",
   "metadata": {
    "colab": {
     "base_uri": "https://localhost:8080/",
     "height": 507
    },
    "id": "2a0b0686",
    "outputId": "1c39f9db-394e-4cbe-e7ba-4fdd683cab3e"
   },
   "outputs": [
    {
     "name": "stdout",
     "output_type": "stream",
     "text": [
      "Present Price Skeweness 4.500179543280087\n",
      "Mean of Present Price 7.35450171821306\n"
     ]
    },
    {
     "data": {
      "image/png": "[encoded data removed]",
      "text/plain": [
       "<Figure size 432x288 with 1 Axes>"
      ]
     },
     "metadata": {
      "needs_background": "light"
     },
     "output_type": "display_data"
    }
   ],
   "source": [
    "print(\"Present Price Skeweness\",df[\"Present_Price\"].skew())\n",
    "print(\"Mean of Present Price\",np.mean(df[\"Present_Price\"]))\n",
    "df[\"Present_Price\"],lam=scp.boxcox(df[\"Present_Price\"])\n",
    "sns.histplot(df[\"Present_Price\"],kde=True)\n",
    "plt.title(\"Present Price\")\n",
    "plt.show()\n",
    "\n"
   ]
  },
  {
   "cell_type": "code",
   "execution_count": 11,
   "id": "d5d2c532",
   "metadata": {
    "colab": {
     "base_uri": "https://localhost:8080/",
     "height": 524
    },
    "id": "d5d2c532",
    "outputId": "e3e9314c-4660-4ce3-95b7-475206e55a05"
   },
   "outputs": [
    {
     "name": "stdout",
     "output_type": "stream",
     "text": [
      "Selling Price Skeweness 2.5929190596180125\n",
      "Mean of Selling Price 4.581030927835055\n",
      "selling price skewness -0.0659032242021267\n"
     ]
    },
    {
     "data": {
      "image/png": "[encoded data removed]",
      "text/plain": [
       "<Figure size 432x288 with 1 Axes>"
      ]
     },
     "metadata": {
      "needs_background": "light"
     },
     "output_type": "display_data"
    }
   ],
   "source": [
    "print(\"Selling Price Skeweness\",scp.skew(df[\"Selling_Price\"]))\n",
    "print(\"Mean of Selling Price\",np.mean(df[\"Selling_Price\"]))\n",
    "df[\"Selling_Price\"],lam=scp.boxcox(df[\"Selling_Price\"])\n",
    "print( \"selling price skewness\",df[\"Selling_Price\"].skew())\n",
    "sns.histplot(df[\"Selling_Price\"],kde=True)\n",
    "plt.title(\"Selling_Price\")\n",
    "plt.show()"
   ]
  },
  {
   "cell_type": "code",
   "execution_count": 12,
   "id": "863fad8c",
   "metadata": {
    "colab": {
     "base_uri": "https://localhost:8080/",
     "height": 524
    },
    "id": "863fad8c",
    "outputId": "d0c4fe1e-9d8a-4720-c549-c3c1ec1a7e9b"
   },
   "outputs": [
    {
     "name": "stdout",
     "output_type": "stream",
     "text": [
      "Kms Driven Skeweness 0.5607208511803912\n",
      "Mean of Kms Driven 32591.31271477663\n"
     ]
    },
    {
     "data": {
      "image/png": "[encoded data removed]",
      "text/plain": [
       "<Figure size 432x288 with 1 Axes>"
      ]
     },
     "metadata": {
      "needs_background": "light"
     },
     "output_type": "display_data"
    },
    {
     "name": "stdout",
     "output_type": "stream",
     "text": [
      "Kms Driven Skeweness -0.1439023176769812\n"
     ]
    }
   ],
   "source": [
    "print(\"Kms Driven Skeweness\",scp.skew(df[\"Kms_Driven\"]))\n",
    "print(\"Mean of Kms Driven\",np.mean(df[\"Kms_Driven\"]))\n",
    "\n",
    "df[\"Kms_Driven\"],list1=scp.boxcox(df[\"Kms_Driven\"])\n",
    "sns.histplot(df[\"Kms_Driven\"],kde=True)\n",
    "plt.title(\"Kms Driven\")\n",
    "plt.show()\n",
    "print(\"Kms Driven Skeweness\",scp.skew(df[\"Kms_Driven\"]))"
   ]
  },
  {
   "cell_type": "code",
   "execution_count": 13,
   "id": "be8e53d3",
   "metadata": {
    "colab": {
     "base_uri": "https://localhost:8080/"
    },
    "id": "be8e53d3",
    "outputId": "9c7dbd6a-1b33-4b6c-acc8-d46a034ce2b9"
   },
   "outputs": [
    {
     "name": "stdout",
     "output_type": "stream",
     "text": [
      "     Year  Present_Price  Kms_Driven  Owner  Fuel_Type_Diesel  \\\n",
      "0    2014       2.008689  383.498051      0                 0   \n",
      "1    2013       2.766295  488.868920      0                 1   \n",
      "2    2017       2.813909  187.841521      0                 0   \n",
      "3    2011       1.616291  161.915215      0                 0   \n",
      "4    2014       2.292554  485.598614      0                 1   \n",
      "..    ...            ...         ...    ...               ...   \n",
      "296  2016       3.061621  432.437267      0                 1   \n",
      "297  2015       2.082008  581.572546      0                 0   \n",
      "298  2009       2.980393  709.702460      0                 0   \n",
      "299  2017       3.177192  215.920376      0                 1   \n",
      "300  2016       2.082008  166.183705      0                 0   \n",
      "\n",
      "     Fuel_Type_Petrol  Seller_Type_Individual  Transmission_Manual  \n",
      "0                   1                       0                    1  \n",
      "1                   0                       0                    1  \n",
      "2                   1                       0                    1  \n",
      "3                   1                       0                    1  \n",
      "4                   0                       0                    1  \n",
      "..                ...                     ...                  ...  \n",
      "296                 0                       0                    1  \n",
      "297                 1                       0                    1  \n",
      "298                 1                       0                    1  \n",
      "299                 0                       0                    1  \n",
      "300                 1                       0                    1  \n",
      "\n",
      "[291 rows x 8 columns]\n",
      "0      1.364778\n",
      "1      1.823243\n",
      "2      2.422281\n",
      "3      1.162977\n",
      "4      1.779786\n",
      "         ...   \n",
      "296    2.832124\n",
      "297    1.593676\n",
      "298    1.364778\n",
      "299    3.135249\n",
      "300    1.973705\n",
      "Name: Selling_Price, Length: 291, dtype: float64\n",
      "     Year  Present_Price  Kms_Driven  Owner  Fuel_Type_Diesel  \\\n",
      "14   2009       2.360553  664.193628      0                 0   \n",
      "224  2013       2.744373  446.883171      0                 0   \n",
      "114  2015       0.398566  301.180699      0                 0   \n",
      "264  2015       2.318874  470.936542      0                 0   \n",
      "164  2016      -0.584082  272.107885      0                 0   \n",
      "..    ...            ...         ...    ...               ...   \n",
      "200  2006      -0.280550  727.563415      0                 0   \n",
      "71   2011       3.174700  500.594703      0                 1   \n",
      "249  2016       2.435370  301.180699      0                 0   \n",
      "99   2010       3.977563  528.990154      0                 1   \n",
      "202  2015       2.035081  392.301344      0                 0   \n",
      "\n",
      "     Fuel_Type_Petrol  Seller_Type_Individual  Transmission_Manual  \n",
      "14                  1                       0                    1  \n",
      "224                 1                       0                    0  \n",
      "114                 1                       1                    1  \n",
      "264                 1                       0                    1  \n",
      "164                 1                       1                    1  \n",
      "..                ...                     ...                  ...  \n",
      "200                 1                       1                    1  \n",
      "71                  0                       0                    1  \n",
      "249                 1                       0                    1  \n",
      "99                  0                       0                    1  \n",
      "202                 1                       0                    1  \n",
      "\n",
      "[232 rows x 8 columns]\n"
     ]
    }
   ],
   "source": [
    "# Converting Dependent And Independent Variables\n",
    "x=df.drop([\"Selling_Price\"],axis=1)\n",
    "y=df[\"Selling_Price\"]\n",
    "\n",
    "print(x)\n",
    "print(y)\n",
    "\n",
    "x_train,x_test,y_train,y_test=train_test_split(x,y,test_size=0.2)\n",
    "print(x_train)\n",
    "sc= StandardScaler()\n",
    "x_train=sc.fit_transform(x_train)\n",
    "x_test= sc.transform(x_test)"
   ]
  },
  {
   "cell_type": "code",
   "execution_count": 14,
   "id": "a9416ab1",
   "metadata": {
    "colab": {
     "base_uri": "https://localhost:8080/"
    },
    "id": "a9416ab1",
    "outputId": "941e2325-e0a6-45a0-ec7e-ff6ac6d628d9"
   },
   "outputs": [
    {
     "name": "stdout",
     "output_type": "stream",
     "text": [
      "Num Features: 5\n",
      "Selected Features Index(['Year', 'Present_Price', 'Fuel_Type_Diesel', 'Fuel_Type_Petrol',\n",
      "       'Seller_Type_Individual'],\n",
      "      dtype='object')\n",
      "Feature Ranking: [1 1 4 2 1 1 1 3]\n"
     ]
    }
   ],
   "source": [
    "# Feature Selection\n",
    "lr= LinearRegression()\n",
    "rfe = RFE(lr, n_features_to_select=5)\n",
    "l = rfe.fit(x,y)\n",
    "\n",
    "print(\"Num Features: %d\" % l.n_features_)\n",
    "print(\"Selected Features\",x.columns[l.support_])\n",
    "print(\"Feature Ranking: %s\" % l.ranking_)"
   ]
  },
  {
   "cell_type": "code",
   "execution_count": 15,
   "id": "e0fd4c1f",
   "metadata": {
    "colab": {
     "base_uri": "https://localhost:8080/"
    },
    "id": "e0fd4c1f",
    "outputId": "2186e9a7-10bd-4acb-bb18-5cf003c4e256"
   },
   "outputs": [
    {
     "name": "stdout",
     "output_type": "stream",
     "text": [
      "Index(['Year', 'Present_Price', 'Kms_Driven', 'Owner', 'Fuel_Type_Diesel',\n",
      "       'Fuel_Type_Petrol', 'Seller_Type_Individual', 'Transmission_Manual'],\n",
      "      dtype='object')\n",
      "[0.05211457 0.26248207 0.01687927 0.00186702 0.0250665  0.00408728\n",
      " 0.61972679 0.0177765 ]\n"
     ]
    }
   ],
   "source": [
    "c= ExtraTreesRegressor()\n",
    "lc=c.fit(x,y)\n",
    "print(x.columns)\n",
    "print(lc.feature_importances_)"
   ]
  },
  {
   "cell_type": "code",
   "execution_count": 16,
   "id": "d4247232",
   "metadata": {
    "colab": {
     "base_uri": "https://localhost:8080/"
    },
    "id": "d4247232",
    "outputId": "d8657add-eee8-4df6-f77f-eeb34c942fb9"
   },
   "outputs": [
    {
     "name": "stdout",
     "output_type": "stream",
     "text": [
      "0.9736692053555934\n"
     ]
    }
   ],
   "source": [
    "ls= LinearRegression()\n",
    "reg=ls.fit(x_train,y_train)\n",
    "\n",
    "y_pre=reg.predict(x_test)\n",
    "\n",
    "print(r2_score(y_test,y_pre))"
   ]
  },
  {
   "cell_type": "code",
   "execution_count": 17,
   "id": "e61fc30c",
   "metadata": {
    "id": "e61fc30c"
   },
   "outputs": [
    {
     "name": "stdout",
     "output_type": "stream",
     "text": [
      "mean absolute error  for ridge regression : 0.178 (0.021)\n",
      "r2 score for ridge regression  0.9729265502543638\n"
     ]
    }
   ],
   "source": [
    "l1 = Ridge(alpha=1.0)\n",
    "cv = RepeatedKFold(n_splits=10, n_repeats=3, random_state=1)\n",
    "# evaluate model\n",
    "scores = cross_val_score(l1, x, y, scoring='neg_mean_absolute_error', cv=cv, n_jobs=-1)\n",
    "# force scores to be positive\n",
    "scores = absolute(scores)\n",
    "print('mean absolute error  for ridge regression : %.3f (%.3f)' % (np.mean(scores), np.std(scores)))\n",
    "l1.fit(x_train,y_train)\n",
    "l_pre = l1.predict(x_test)\n",
    "print(\"r2 score for ridge regression \",r2_score(y_test,l_pre))"
   ]
  },
  {
   "cell_type": "code",
   "execution_count": 18,
   "id": "7e84e30e",
   "metadata": {
    "id": "7e84e30e"
   },
   "outputs": [
    {
     "name": "stdout",
     "output_type": "stream",
     "text": [
      "r2 score for lasso regression 0.9674632072907533\n"
     ]
    }
   ],
   "source": [
    "l2 = Lasso(alpha = 0.05)\n",
    "l2.fit(x_train,y_train)\n",
    "las_pre = l2.predict(x_test)\n",
    "print(\"r2 score for lasso regression\", r2_score(y_test,las_pre))"
   ]
  },
  {
   "cell_type": "code",
   "execution_count": 19,
   "id": "1ed4b2c1",
   "metadata": {},
   "outputs": [
    {
     "name": "stdout",
     "output_type": "stream",
     "text": [
      "r2 score for elastic net  0.9680376887589788\n"
     ]
    }
   ],
   "source": [
    "els=ElasticNet(alpha=0.05)\n",
    "els.fit(x_train,y_train)\n",
    "els_pre = els.predict(x_test)\n",
    "print(\"r2 score for elastic net \",r2_score(y_test,els_pre))"
   ]
  },
  {
   "cell_type": "code",
   "execution_count": 20,
   "id": "f1e7762d",
   "metadata": {},
   "outputs": [],
   "source": [
    "def SSE(y_true, y_pred):\n",
    "\n",
    "     sse= np.sum((y_true-y_pred)**2)\n",
    "\n",
    "     return sse;"
   ]
  },
  {
   "cell_type": "code",
   "execution_count": 21,
   "id": "27c79e90",
   "metadata": {},
   "outputs": [
    {
     "name": "stdout",
     "output_type": "stream",
     "text": [
      "sum of squared error for linear regression  2.634281507917326\n",
      " sum of squared error for ridge regression  2.7085809214500354\n",
      " sum of squared error for lasso regression  3.2551646282773903\n",
      "sum of squared error for elasticnet  3.1976902554441713\n"
     ]
    }
   ],
   "source": [
    "print(\"sum of squared error for linear regression \", SSE(y_test,y_pre));\n",
    "print(\" sum of squared error for ridge regression \",SSE(y_test,l_pre));\n",
    "print(\" sum of squared error for lasso regression \",SSE(y_test,las_pre));\n",
    "print(\"sum of squared error for elasticnet \",SSE(y_test,els_pre));"
   ]
  },
  {
   "cell_type": "code",
   "execution_count": null,
   "id": "e56e0e88",
   "metadata": {},
   "outputs": [],
   "source": []
  }
 ],
 "metadata": {
  "colab": {
   "provenance": []
  },
  "kernelspec": {
   "display_name": "Python 3 (ipykernel)",
   "language": "python",
   "name": "python3"
  },
  "language_info": {
   "codemirror_mode": {
    "name": "ipython",
    "version": 3
   },
   "file_extension": ".py",
   "mimetype": "text/x-python",
   "name": "python",
   "nbconvert_exporter": "python",
   "pygments_lexer": "ipython3",
   "version": "3.9.7"
  }
 },
 "nbformat": 4,
 "nbformat_minor": 5
}
